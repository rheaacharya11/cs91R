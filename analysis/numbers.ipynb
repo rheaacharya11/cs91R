{
 "cells": [
  {
   "cell_type": "code",
   "execution_count": 12,
   "metadata": {},
   "outputs": [
    {
     "name": "stdout",
     "output_type": "stream",
     "text": [
      "Cycle Percentage Per Digit Length (2-10):\n",
      "Digit_Length\n",
      "1                  0.0\n",
      "2                  4.0\n",
      "3                  5.0\n",
      "4                  2.0\n",
      "5                  0.0\n",
      "6                 11.0\n",
      "7                  8.0\n",
      "8            15.151515\n",
      "9            18.181818\n",
      "10                32.0\n",
      "33885745           NaN\n",
      "466208020          NaN\n",
      "Name: Cycle, dtype: object\n",
      "\n",
      "Overall Cycle Percentage:\n",
      "9.519038076152304\n"
     ]
    }
   ],
   "source": [
    "import pandas as pd\n",
    "\n",
    "# Load your dataset into a DataFrame\n",
    "# Replace 'your_dataset.csv' with your actual file path\n",
    "df = pd.read_csv('../results/symmetric_10.csv')\n",
    "\n",
    "# Define a function to calculate the cycle percentage\n",
    "def calculate_cycle_percentage(data):\n",
    "    # Check the cycle condition: A > B, B > C, C > A\n",
    "\n",
    "    # Calculate the cycle percentage per Digit_Length\n",
    "    cycle_percentage_per_length = data.groupby('Digit_Length')['Cycle'].mean() * 100\n",
    "\n",
    "    # Calculate the overall cycle percentage\n",
    "    overall_cycle_percentage = data['Cycle'].mean() * 100\n",
    "    \n",
    "    return cycle_percentage_per_length, overall_cycle_percentage\n",
    "\n",
    "# Get results\n",
    "cycle_percentage_per_length, overall_cycle_percentage = calculate_cycle_percentage(df)\n",
    "\n",
    "# Display the results\n",
    "print(\"Cycle Percentage Per Digit Length (2-10):\")\n",
    "print(cycle_percentage_per_length)\n",
    "print(\"\\nOverall Cycle Percentage:\")\n",
    "print(overall_cycle_percentage)\n"
   ]
  }
 ],
 "metadata": {
  "kernelspec": {
   "display_name": "base",
   "language": "python",
   "name": "python3"
  },
  "language_info": {
   "codemirror_mode": {
    "name": "ipython",
    "version": 3
   },
   "file_extension": ".py",
   "mimetype": "text/x-python",
   "name": "python",
   "nbconvert_exporter": "python",
   "pygments_lexer": "ipython3",
   "version": "3.11.7"
  }
 },
 "nbformat": 4,
 "nbformat_minor": 2
}
