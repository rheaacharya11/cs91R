{
 "cells": [
  {
   "cell_type": "code",
   "execution_count": 3,
   "metadata": {},
   "outputs": [],
   "source": [
    "import pandas as pd\n",
    "\n",
    "# Load the dataset (assuming CSV format)\n",
    "# Replace 'data.csv' with your actual file path\n",
    "df = pd.read_csv('../results/word_preferences.csv')"
   ]
  },
  {
   "cell_type": "code",
   "execution_count": 7,
   "metadata": {},
   "outputs": [],
   "source": [
    "# Define comparison checks\n",
    "df['A_vs_B_Aligned'] = ((df['Weight_A'] > df['Weight_B']) & (df['A_vs_B'] == df['Word_A'])) | \\\n",
    "                       ((df['Weight_A'] < df['Weight_B']) & (df['A_vs_B'] == df['Word_B']))\n",
    "df['B_vs_C_Aligned'] = ((df['Weight_B'] > df['Weight_C']) & (df['B_vs_C'] == df['Word_B'])) | \\\n",
    "                       ((df['Weight_B'] < df['Weight_C']) & (df['B_vs_C'] == df['Word_C']))\n",
    "df['C_vs_A_Aligned'] = ((df['Weight_C'] > df['Weight_A']) & (df['C_vs_A'] == df['Word_C'])) | \\\n",
    "                       ((df['Weight_C'] < df['Weight_A']) & (df['C_vs_A'] == df['Word_A']))\n",
    "\n",
    "# Summary statistics\n",
    "alignment_summary = {\n",
    "    'A_vs_B_Aligned': df['A_vs_B_Aligned'].mean(),\n",
    "    'B_vs_C_Aligned': df['B_vs_C_Aligned'].mean(),\n",
    "    'C_vs_A_Aligned': df['C_vs_A_Aligned'].mean()\n",
    "}"
   ]
  },
  {
   "cell_type": "code",
   "execution_count": 8,
   "metadata": {},
   "outputs": [
    {
     "name": "stdout",
     "output_type": "stream",
     "text": [
      "Alignment Statistics:\n",
      "A_vs_B_Aligned: 51.00% aligned\n",
      "B_vs_C_Aligned: 40.00% aligned\n",
      "C_vs_A_Aligned: 52.00% aligned\n"
     ]
    }
   ],
   "source": [
    "# Print alignment results\n",
    "print(\"Alignment Statistics:\")\n",
    "for key, value in alignment_summary.items():\n",
    "    print(f\"{key}: {value:.2%} aligned\")\n"
   ]
  }
 ],
 "metadata": {
  "kernelspec": {
   "display_name": "base",
   "language": "python",
   "name": "python3"
  },
  "language_info": {
   "codemirror_mode": {
    "name": "ipython",
    "version": 3
   },
   "file_extension": ".py",
   "mimetype": "text/x-python",
   "name": "python",
   "nbconvert_exporter": "python",
   "pygments_lexer": "ipython3",
   "version": "3.11.7"
  }
 },
 "nbformat": 4,
 "nbformat_minor": 2
}
